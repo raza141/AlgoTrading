{
 "cells": [
  {
   "cell_type": "raw",
   "id": "670e256d",
   "metadata": {},
   "source": [
    "# Script:   Estimate_MI_Parameters.ipny\n",
    "# Desc:     Estimating MI Parameters via Non-Linear Regression using actual customer order data"
   ]
  },
  {
   "cell_type": "code",
   "execution_count": 1,
   "id": "27bcc369",
   "metadata": {},
   "outputs": [],
   "source": [
    "# Step 1. Import all Packages: Pandas, Numpy, and Statistics\n",
    "#\n",
    "import pandas as pd\n",
    "import numpy as np\n",
    "import statistics as st\n",
    "import scipy\n",
    "#from scipy import stats\n",
    "import scipy.optimize as spo\n",
    "from scipy.optimize import minimize\n",
    "from scipy.optimize import fsolve"
   ]
  },
  {
   "cell_type": "code",
   "execution_count": 2,
   "id": "d86b2ddc",
   "metadata": {},
   "outputs": [
    {
     "name": "stdout",
     "output_type": "stream",
     "text": [
      "InputPath: C:\\Users\\nburg\\Desktop\\MMT04\\, OutputPath: C:\\Users\\nburg\\Desktop\\MMT04\\\n"
     ]
    }
   ],
   "source": [
    "# Step 2. User Inputs\n",
    "#\n",
    "import os\n",
    "current_working_directory = os.getcwd()\n",
    "\n",
    "InputPath = current_working_directory + \"\\\\\"\n",
    "OutputPath = current_working_directory + \"\\\\\"\n",
    "print(\"InputPath: {0}, OutputPath: {1}\".format(InputPath, OutputPath))\n",
    "\n",
    "# MI Data Input File\n",
    "MI_InputDataFile=\"MI_Data.csv\"\n",
    "\n",
    "# MI Output Datafile\n",
    "MI_OutputDataFile=\"MI_Parameters.csv\""
   ]
  },
  {
   "cell_type": "code",
   "execution_count": 3,
   "id": "8620e085",
   "metadata": {},
   "outputs": [
    {
     "data": {
      "text/html": [
       "<div>\n",
       "<style scoped>\n",
       "    .dataframe tbody tr th:only-of-type {\n",
       "        vertical-align: middle;\n",
       "    }\n",
       "\n",
       "    .dataframe tbody tr th {\n",
       "        vertical-align: top;\n",
       "    }\n",
       "\n",
       "    .dataframe thead th {\n",
       "        text-align: right;\n",
       "    }\n",
       "</style>\n",
       "<table border=\"1\" class=\"dataframe\">\n",
       "  <thead>\n",
       "    <tr style=\"text-align: right;\">\n",
       "      <th></th>\n",
       "      <th>Date</th>\n",
       "      <th>Size</th>\n",
       "      <th>Volatility</th>\n",
       "      <th>POV</th>\n",
       "      <th>Cost</th>\n",
       "    </tr>\n",
       "  </thead>\n",
       "  <tbody>\n",
       "    <tr>\n",
       "      <th>0</th>\n",
       "      <td>8/14/2020</td>\n",
       "      <td>0.0927</td>\n",
       "      <td>0.498829</td>\n",
       "      <td>0.0303</td>\n",
       "      <td>-0.357895</td>\n",
       "    </tr>\n",
       "    <tr>\n",
       "      <th>1</th>\n",
       "      <td>8/14/2020</td>\n",
       "      <td>0.0568</td>\n",
       "      <td>0.344376</td>\n",
       "      <td>0.0333</td>\n",
       "      <td>171.617139</td>\n",
       "    </tr>\n",
       "    <tr>\n",
       "      <th>2</th>\n",
       "      <td>8/14/2020</td>\n",
       "      <td>0.0534</td>\n",
       "      <td>0.193020</td>\n",
       "      <td>0.0415</td>\n",
       "      <td>-26.072693</td>\n",
       "    </tr>\n",
       "    <tr>\n",
       "      <th>3</th>\n",
       "      <td>8/14/2020</td>\n",
       "      <td>0.0580</td>\n",
       "      <td>0.471967</td>\n",
       "      <td>0.0478</td>\n",
       "      <td>260.844290</td>\n",
       "    </tr>\n",
       "    <tr>\n",
       "      <th>4</th>\n",
       "      <td>8/14/2020</td>\n",
       "      <td>0.1500</td>\n",
       "      <td>0.337130</td>\n",
       "      <td>0.0538</td>\n",
       "      <td>126.922787</td>\n",
       "    </tr>\n",
       "  </tbody>\n",
       "</table>\n",
       "</div>"
      ],
      "text/plain": [
       "        Date    Size  Volatility     POV        Cost\n",
       "0  8/14/2020  0.0927    0.498829  0.0303   -0.357895\n",
       "1  8/14/2020  0.0568    0.344376  0.0333  171.617139\n",
       "2  8/14/2020  0.0534    0.193020  0.0415  -26.072693\n",
       "3  8/14/2020  0.0580    0.471967  0.0478  260.844290\n",
       "4  8/14/2020  0.1500    0.337130  0.0538  126.922787"
      ]
     },
     "execution_count": 3,
     "metadata": {},
     "output_type": "execute_result"
    }
   ],
   "source": [
    "# Stepp 3. Read MI Datafile\n",
    "#\n",
    "MIData_df = pd.read_csv(InputPath+MI_InputDataFile)\n",
    "#MIData_df = pd.read_csv(MIDataFile)\n",
    "\n",
    "# Display first 5 rows\n",
    "MIData_df.head()"
   ]
  },
  {
   "cell_type": "code",
   "execution_count": 4,
   "id": "921da877",
   "metadata": {},
   "outputs": [
    {
     "name": "stdout",
     "output_type": "stream",
     "text": [
      "233135\n",
      "[ -0.35789526 171.6171393  -26.0726929  ...  95.18516373  62.5457652\n",
      " 154.009555  ]\n"
     ]
    }
   ],
   "source": [
    "# Step 4. Define Variables\n",
    "#\n",
    "Size = MIData_df['Size'].to_numpy()\n",
    "Volatility = MIData_df['Volatility'].to_numpy()\n",
    "POV = MIData_df['POV'].to_numpy()\n",
    "Cost = MIData_df['Cost'].to_numpy()\n",
    "\n",
    "# Number of data points\n",
    "N=Cost.size\n",
    "print(N)\n",
    "\n",
    "print(Cost)"
   ]
  },
  {
   "cell_type": "code",
   "execution_count": 5,
   "id": "969620be",
   "metadata": {},
   "outputs": [],
   "source": [
    "# Step 5. Define Optimization Objective Function\n",
    "#\n",
    "# We want to estimate the parameters: a1, a2, a3, a4, and b1\n",
    "# The x-input variables are Size, Volatility, and POV\n",
    "# The y-input variables is Cost\n",
    "# The optimization objective function uses the IStar Model\n",
    "# f = sum (MI - Cost)^2\n",
    "\n",
    "def optimize1(initial_guess, Size, Volatility, POV, Cost):\n",
    "    a1, a2, a3, a4, b1 = initial_guess\n",
    "    return np.sum(np.square((a1 * (Size ** a2) * (Volatility ** a3) * (b1 * (POV ** a4) + (1 - b1))) - Cost))\n"
   ]
  },
  {
   "cell_type": "code",
   "execution_count": 6,
   "id": "202689ec",
   "metadata": {},
   "outputs": [
    {
     "data": {
      "text/plain": [
       "  message: CONVERGENCE: REL_REDUCTION_OF_F_<=_FACTR*EPSMCH\n",
       "  success: True\n",
       "   status: 0\n",
       "      fun: 4945541238.843125\n",
       "        x: [ 8.834e+02  3.542e-01  7.557e-01  8.254e-01  9.638e-01]\n",
       "      nit: 34\n",
       "      jac: [ 9.537e+01  2.934e+05 -6.571e+04 -1.218e+05 -1.805e+05]\n",
       "     nfev: 246\n",
       "     njev: 41\n",
       " hess_inv: <5x5 LbfgsInvHessProduct with dtype=float64>"
      ]
     },
     "execution_count": 6,
     "metadata": {},
     "output_type": "execute_result"
    }
   ],
   "source": [
    "# Step 6. Run Non-Linear Optimization\n",
    "#\n",
    "\n",
    "# Start with initital guess for the parameter values\n",
    "a1 = 1000\n",
    "a2 = 0.5\n",
    "a3 = 0.5\n",
    "a4 = 0.5\n",
    "b1 = 0.95\n",
    "\n",
    "initial_guess = [a1, a2, a3, a4, b1]\n",
    "\n",
    "# a1, a2, a3, a4 > 0\n",
    "# 0 <= b1 <= 1\n",
    "\n",
    "# Set Upper and Lower Bounds on Constraints\n",
    "LB = [0.0001, 0.0001, 0.0001, 0.0001, 0.000001] \n",
    "UB = [2000, 5.0, 5.0, 5.0, 1]\n",
    "\n",
    "MyBounds = []\n",
    "i = 0 \n",
    "for i in range(0,len(LB)):\n",
    "    MyBounds.append((LB[i], UB[i]))\n",
    "    i = i+1\n",
    "\n",
    "# Run Non-Linear Optimization Process\n",
    "result = minimize(optimize1, initial_guess, bounds = MyBounds, args = (Size, Volatility, POV, Cost))\n",
    "result\n"
   ]
  },
  {
   "cell_type": "code",
   "execution_count": 7,
   "id": "e367a381",
   "metadata": {},
   "outputs": [],
   "source": [
    "# Step 7. Calculate Non-Linear Regression Statistics\n",
    "\n",
    "# Parameters\n",
    "a1 = result.x.tolist()[0]\n",
    "a2 = result.x.tolist()[1]\n",
    "a3 = result.x.tolist()[2]\n",
    "a4 = result.x.tolist()[3]\n",
    "b1 = result.x.tolist()[4]\n",
    "\n",
    "\n",
    "# ----- Calculate Estimated Cost\n",
    "EstCost=(a1*Size**a2*Volatility**a3)*(b1*POV**a4+(1-b1))\n",
    "\n",
    "#EstCost=EstCost.reshape(-1,1)\n",
    "\n",
    "# Get Actual Cost\n",
    "ActualCost=Cost\n",
    "#ActualCost=MIData.iloc[:,4]\n",
    "\n",
    "## Calculate Error\n",
    "AvgCost=st.mean(ActualCost)\n",
    "Error = ActualCost - EstCost\n",
    "#MSE=1/(N-3-1)*sum((ActualCost-EstCost)**2)\n",
    "MSE=1/N*sum((ActualCost-EstCost)**2)\n",
    "SE=MSE**0.5\n",
    "\n",
    "## Calculate the R2 of the MI Model\n",
    "RSS=sum((ActualCost-EstCost)*(ActualCost-EstCost))\n",
    "TSS=sum((ActualCost-AvgCost)*(ActualCost-AvgCost))\n",
    "R2=1-RSS/TSS\n",
    "\n",
    "# display results\n",
    "a1, a2, a3, a4, b1, MSE, SE, R2\n",
    "\n",
    "MiResults = pd.DataFrame([a1, a2, a3, a4, b1, MSE, SE, R2]).transpose()\n",
    "MiResults.columns = ['a1', 'a2', 'a3', 'a4', 'b1', 'MSE', 'SE', 'R2']\n",
    "\n"
   ]
  },
  {
   "cell_type": "code",
   "execution_count": 8,
   "id": "42040b87",
   "metadata": {},
   "outputs": [
    {
     "data": {
      "text/html": [
       "<div>\n",
       "<style scoped>\n",
       "    .dataframe tbody tr th:only-of-type {\n",
       "        vertical-align: middle;\n",
       "    }\n",
       "\n",
       "    .dataframe tbody tr th {\n",
       "        vertical-align: top;\n",
       "    }\n",
       "\n",
       "    .dataframe thead th {\n",
       "        text-align: right;\n",
       "    }\n",
       "</style>\n",
       "<table border=\"1\" class=\"dataframe\">\n",
       "  <thead>\n",
       "    <tr style=\"text-align: right;\">\n",
       "      <th></th>\n",
       "      <th>a1</th>\n",
       "      <th>a2</th>\n",
       "      <th>a3</th>\n",
       "      <th>a4</th>\n",
       "      <th>b1</th>\n",
       "      <th>MSE</th>\n",
       "      <th>SE</th>\n",
       "      <th>R2</th>\n",
       "    </tr>\n",
       "  </thead>\n",
       "  <tbody>\n",
       "    <tr>\n",
       "      <th>0</th>\n",
       "      <td>883.354354</td>\n",
       "      <td>0.354228</td>\n",
       "      <td>0.755655</td>\n",
       "      <td>0.825388</td>\n",
       "      <td>0.963778</td>\n",
       "      <td>21213.207965</td>\n",
       "      <td>145.647547</td>\n",
       "      <td>0.124574</td>\n",
       "    </tr>\n",
       "  </tbody>\n",
       "</table>\n",
       "</div>"
      ],
      "text/plain": [
       "           a1        a2        a3        a4        b1           MSE  \\\n",
       "0  883.354354  0.354228  0.755655  0.825388  0.963778  21213.207965   \n",
       "\n",
       "           SE        R2  \n",
       "0  145.647547  0.124574  "
      ]
     },
     "execution_count": 8,
     "metadata": {},
     "output_type": "execute_result"
    }
   ],
   "source": [
    "# Step 8 - Show Results\n",
    "MiResults"
   ]
  },
  {
   "cell_type": "code",
   "execution_count": 9,
   "id": "c279561b",
   "metadata": {},
   "outputs": [],
   "source": [
    "# Step 9. Save Results\n",
    "MiResults.to_csv(OutputPath+MI_OutputDataFile, index = False, header = True)\n",
    "#MiResults.transpose().to_csv(OutputPath+MI_OutputDataFile_T, index = True, header = False)"
   ]
  }
 ],
 "metadata": {
  "kernelspec": {
   "display_name": "Python 3 (ipykernel)",
   "language": "python",
   "name": "python3"
  },
  "language_info": {
   "codemirror_mode": {
    "name": "ipython",
    "version": 3
   },
   "file_extension": ".py",
   "mimetype": "text/x-python",
   "name": "python",
   "nbconvert_exporter": "python",
   "pygments_lexer": "ipython3",
   "version": "3.9.12"
  }
 },
 "nbformat": 4,
 "nbformat_minor": 5
}
