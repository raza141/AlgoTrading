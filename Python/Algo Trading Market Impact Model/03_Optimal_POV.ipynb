{
 "cells": [
  {
   "cell_type": "code",
   "execution_count": 1,
   "id": "68215e7e",
   "metadata": {},
   "outputs": [],
   "source": [
    "# Script: Optimal_POV.ipynb"
   ]
  },
  {
   "cell_type": "code",
   "execution_count": 2,
   "id": "d864de41",
   "metadata": {},
   "outputs": [],
   "source": [
    "# Step 1. Import Python Packages\n",
    "import pandas as pd\n",
    "import numpy as np\n",
    "#import statistics as st\n",
    "import scipy\n",
    "#from scipy import stats\n",
    "import scipy.optimize as spo\n",
    "from scipy.optimize import minimize\n",
    "from scipy.optimize import fsolve"
   ]
  },
  {
   "cell_type": "code",
   "execution_count": 3,
   "id": "173290bc",
   "metadata": {},
   "outputs": [
    {
     "name": "stdout",
     "output_type": "stream",
     "text": [
      "InputPath: C:\\Users\\nburg\\Desktop\\MMT04\\, OutputPath: C:\\Users\\nburg\\Desktop\\MMT04\\\n"
     ]
    }
   ],
   "source": [
    "# Step 2. Define User Input\n",
    "import os\n",
    "current_working_directory = os.getcwd()\n",
    "\n",
    "InputPath = current_working_directory + \"\\\\\"\n",
    "OutputPath = current_working_directory + \"\\\\\"\n",
    "print(\"InputPath: {0}, OutputPath: {1}\".format(InputPath, OutputPath))\n",
    "\n",
    "# Output File\n",
    "OutputOptPovFile=\"Optimal_POV.csv\"\n",
    "\n",
    "# Stock\n",
    "Stock='RLK'\n",
    "\n",
    "# Risk Aversion\n",
    "Lambda = 0.50\n",
    "\n",
    "# Order Characteristics\n",
    "Size = 0.10\n",
    "Volatility = 0.35\n",
    "\n",
    "# MI Parameters\n",
    "a1 = 882.900282\n",
    "a2 = 0.353976\n",
    "a3 = 0.755553\n",
    "a4 = 0.824951\n",
    "b1 = 0.963963\n"
   ]
  },
  {
   "cell_type": "code",
   "execution_count": 4,
   "id": "ca396f47",
   "metadata": {},
   "outputs": [],
   "source": [
    "# Step 3. Trade Cost Functions\n",
    "\n",
    "# Market Impact\n",
    "def MI_calc(a1, a2, a3, a4, b1, Size, Volatility, POV):\n",
    "    mi = (a1*Size**a2*Volatility**a3) * (b1*POV**a4 + (1-b1))\n",
    "    return mi\n",
    "\n",
    "# Timing Risk\n",
    "def TR_calc(Size, Volatility, POV):\n",
    "    tr = Volatility * ((1/3*1/250*Size*(1-POV)/POV )**0.5) * 10**4\n",
    "    return tr\n",
    "\n",
    "\n",
    "# Price Appreciation\n",
    "def PA_calc(Side, AlphaBp, Size, POV):\n",
    "    pa = Side * (1/2) * AlphaBp * Size * ((1 - POV)/POV)\n",
    "    return pa\n",
    "\n",
    "# Trade Time\n",
    "def TradeTime_calc(Size, POV):\n",
    "    tt = Size * ((1-POV)/POV)\n",
    "    return tt\n"
   ]
  },
  {
   "cell_type": "code",
   "execution_count": 5,
   "id": "a09a4ae2",
   "metadata": {},
   "outputs": [],
   "source": [
    "# Step 4. POV Optimization Function\n",
    "\n",
    "def Opt_POV_calc(POV, Size, Volatility, Lambda, a1, a2, a3, a4, b1):\n",
    "    MI = (a1*Size**a2*Volatility**a3) * (b1*POV**a4 + (1-b1))\n",
    "    TR = Volatility * ((1/3*1/250*Size*(1-POV)/POV )**0.5) * 10**4\n",
    "    f = MI + (Lambda * TR)\n",
    "    return f\n",
    "    "
   ]
  },
  {
   "cell_type": "code",
   "execution_count": 6,
   "id": "4c0835f9",
   "metadata": {},
   "outputs": [],
   "source": [
    "# Step 5. POV Optimization\n",
    "\n",
    "bound1 = [(0.00001,1)]\n",
    "bounds = (bound1)\n",
    "\n",
    "# Run POV Optimization\n",
    "POV = minimize(Opt_POV_calc, 0.5, bounds = bounds, args = (Size, Volatility, Lambda, a1, a2, a3, a4, b1))\n",
    "\n",
    "# Get POV value\n",
    "#POV = pd.Series(POV.x.tolist()[0])\n",
    "#POV=POV.x\n",
    "#POV\n",
    "\n",
    "#POV.x.tolist()[0]\n",
    "POV = pd.Series(POV.x.tolist()[0])\n",
    "#POV"
   ]
  },
  {
   "cell_type": "code",
   "execution_count": 7,
   "id": "10c9d7e4",
   "metadata": {},
   "outputs": [
    {
     "name": "stdout",
     "output_type": "stream",
     "text": [
      "0.14545770930767105 0.587485046175729\n"
     ]
    }
   ],
   "source": [
    "# Step 6. Get Trade Time\n",
    "\n",
    "TradeTime = TradeTime_calc(Size, POV)\n",
    "print(POV[0], TradeTime[0])\n"
   ]
  },
  {
   "cell_type": "code",
   "execution_count": 8,
   "id": "48639ab3",
   "metadata": {},
   "outputs": [
    {
     "name": "stdout",
     "output_type": "stream",
     "text": [
      "0.14545770930767105 0.587485046175729\n"
     ]
    }
   ],
   "source": [
    "# Step 7. Save Results to Output csv file\n",
    "\n",
    "#POV = pd.Series(POV.x.tolist()[0])\n",
    "pov = POV[0]\n",
    "tradetime = TradeTime[0]\n",
    "Lambda = pd.Series(Lambda)\n",
    "Size = pd.Series(Size)\n",
    "Volatility = pd.Series(Volatility)\n",
    "a1 = pd.Series(a1)\n",
    "a2 = pd.Series(a2)\n",
    "a3 = pd.Series(a3)\n",
    "a4 = pd.Series(a4)\n",
    "b1 = pd.Series(b1)\n",
    "\n",
    "print(pov, tradetime)\n",
    "\n",
    "# Output File Data\n",
    "POV_df = pd.concat([POV, TradeTime, Lambda, Size, Volatility, a1, a2, a3, a4, b1], axis =1)\n",
    "POV_df.columns = [['POV', 'TradeTime', 'Lambda', 'Size', 'Volatility', 'a1', 'a2', 'a3', 'a4', 'b1']]\n",
    "POV_df = POV_df.transpose()\n",
    "POV_df.columns = ['Value']\n",
    "POV_df.index.rename('Parameter', inplace=True)\n",
    "\n",
    "# Save File\n",
    "POV_df.to_csv(OutputPath+OutputOptPovFile, index = True, header = True)"
   ]
  },
  {
   "cell_type": "code",
   "execution_count": 9,
   "id": "1e056071",
   "metadata": {},
   "outputs": [],
   "source": [
    "# To write output file\n",
    "POV_df = pd.concat([POV, TradeTime, Lambda, Size, Volatility, a1, a2, a3, a4, b1], axis =1)\n",
    "POV_df.columns = [['POV', 'TradeTime', 'Lambda', 'Size', 'Volatility', 'a1', 'a2', 'a3', 'a4', 'b1']]\n",
    "POV_df = POV_df.transpose()\n",
    "POV_df.columns = ['Value']\n",
    "POV_df.index.rename('Parameter', inplace=True)\n",
    "\n"
   ]
  },
  {
   "cell_type": "code",
   "execution_count": 10,
   "id": "3b9812e4",
   "metadata": {},
   "outputs": [],
   "source": [
    "#POV_df.to_csv(OutputPath+'Algo-SS-Optimal-POV.csv', index = True, header = True)\n",
    "POV_df.to_csv(OutputPath+OutputOptPovFile, index = True, header = True)\n"
   ]
  }
 ],
 "metadata": {
  "kernelspec": {
   "display_name": "Python 3 (ipykernel)",
   "language": "python",
   "name": "python3"
  },
  "language_info": {
   "codemirror_mode": {
    "name": "ipython",
    "version": 3
   },
   "file_extension": ".py",
   "mimetype": "text/x-python",
   "name": "python",
   "nbconvert_exporter": "python",
   "pygments_lexer": "ipython3",
   "version": "3.9.12"
  }
 },
 "nbformat": 4,
 "nbformat_minor": 5
}
