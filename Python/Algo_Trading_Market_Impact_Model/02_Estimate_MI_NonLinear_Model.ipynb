{
 "cells": [
  {
   "cell_type": "code",
   "execution_count": 1,
   "id": "cb8067cb",
   "metadata": {},
   "outputs": [],
   "source": [
    "# Script: Eststimate_MI_IStar_NonLinear_Model.ipynb"
   ]
  },
  {
   "cell_type": "code",
   "execution_count": 2,
   "id": "27bcc369",
   "metadata": {},
   "outputs": [],
   "source": [
    "# Step 1. Import all Packages: Pandas, Numpy, and Statistics\n",
    "import pandas as pd\n",
    "import numpy as np\n",
    "#import statistics as st\n",
    "import scipy\n",
    "#from scipy import stats\n",
    "import scipy.optimize as spo\n",
    "from scipy.optimize import minimize\n",
    "from scipy.optimize import fsolve"
   ]
  },
  {
   "cell_type": "code",
   "execution_count": 3,
   "id": "d86b2ddc",
   "metadata": {},
   "outputs": [
    {
     "name": "stdout",
     "output_type": "stream",
     "text": [
      "InputPath: C:\\Users\\nburg\\Desktop\\MMT04\\, OutputPath: C:\\Users\\nburg\\Desktop\\MMT04\\\n"
     ]
    }
   ],
   "source": [
    "# Step 2. User Inputs\n",
    "import os\n",
    "current_working_directory = os.getcwd()\n",
    "\n",
    "InputPath = current_working_directory + \"\\\\\"\n",
    "OutputPath = current_working_directory + \"\\\\\"\n",
    "print(\"InputPath: {0}, OutputPath: {1}\".format(InputPath, OutputPath))\n",
    "\n",
    "MIDataFile=\"MI_Data.csv\"\n",
    "MIParameterFile=\"MI_Parameters.csv\"\n"
   ]
  },
  {
   "cell_type": "code",
   "execution_count": 4,
   "id": "8620e085",
   "metadata": {},
   "outputs": [
    {
     "data": {
      "text/html": [
       "<div>\n",
       "<style scoped>\n",
       "    .dataframe tbody tr th:only-of-type {\n",
       "        vertical-align: middle;\n",
       "    }\n",
       "\n",
       "    .dataframe tbody tr th {\n",
       "        vertical-align: top;\n",
       "    }\n",
       "\n",
       "    .dataframe thead th {\n",
       "        text-align: right;\n",
       "    }\n",
       "</style>\n",
       "<table border=\"1\" class=\"dataframe\">\n",
       "  <thead>\n",
       "    <tr style=\"text-align: right;\">\n",
       "      <th></th>\n",
       "      <th>Date</th>\n",
       "      <th>Size</th>\n",
       "      <th>Volatility</th>\n",
       "      <th>POV</th>\n",
       "      <th>Cost</th>\n",
       "    </tr>\n",
       "  </thead>\n",
       "  <tbody>\n",
       "    <tr>\n",
       "      <th>0</th>\n",
       "      <td>8/14/2020</td>\n",
       "      <td>0.0927</td>\n",
       "      <td>0.498829</td>\n",
       "      <td>0.0303</td>\n",
       "      <td>-0.357895</td>\n",
       "    </tr>\n",
       "    <tr>\n",
       "      <th>1</th>\n",
       "      <td>8/14/2020</td>\n",
       "      <td>0.0568</td>\n",
       "      <td>0.344376</td>\n",
       "      <td>0.0333</td>\n",
       "      <td>171.617139</td>\n",
       "    </tr>\n",
       "    <tr>\n",
       "      <th>2</th>\n",
       "      <td>8/14/2020</td>\n",
       "      <td>0.0534</td>\n",
       "      <td>0.193020</td>\n",
       "      <td>0.0415</td>\n",
       "      <td>-26.072693</td>\n",
       "    </tr>\n",
       "    <tr>\n",
       "      <th>3</th>\n",
       "      <td>8/14/2020</td>\n",
       "      <td>0.0580</td>\n",
       "      <td>0.471967</td>\n",
       "      <td>0.0478</td>\n",
       "      <td>260.844290</td>\n",
       "    </tr>\n",
       "    <tr>\n",
       "      <th>4</th>\n",
       "      <td>8/14/2020</td>\n",
       "      <td>0.1500</td>\n",
       "      <td>0.337130</td>\n",
       "      <td>0.0538</td>\n",
       "      <td>126.922787</td>\n",
       "    </tr>\n",
       "  </tbody>\n",
       "</table>\n",
       "</div>"
      ],
      "text/plain": [
       "        Date    Size  Volatility     POV        Cost\n",
       "0  8/14/2020  0.0927    0.498829  0.0303   -0.357895\n",
       "1  8/14/2020  0.0568    0.344376  0.0333  171.617139\n",
       "2  8/14/2020  0.0534    0.193020  0.0415  -26.072693\n",
       "3  8/14/2020  0.0580    0.471967  0.0478  260.844290\n",
       "4  8/14/2020  0.1500    0.337130  0.0538  126.922787"
      ]
     },
     "execution_count": 4,
     "metadata": {},
     "output_type": "execute_result"
    }
   ],
   "source": [
    "# Step 3. Read MIData file\n",
    "MI_df = pd.read_csv(InputPath+MIDataFile)\n",
    "MI_df.head()"
   ]
  },
  {
   "cell_type": "code",
   "execution_count": 5,
   "id": "921da877",
   "metadata": {},
   "outputs": [],
   "source": [
    "# Step 4. Define Variables from MIData file\n",
    "Size = MI_df['Size'].to_numpy()\n",
    "Volatility = MI_df['Volatility'].to_numpy()\n",
    "POV = MI_df['POV'].to_numpy()\n",
    "Cost = MI_df['Cost'].to_numpy()\n"
   ]
  },
  {
   "cell_type": "code",
   "execution_count": 6,
   "id": "969620be",
   "metadata": {},
   "outputs": [],
   "source": [
    "# Step 5. Define function to calculate Non-Linear Objective Function\n",
    "def optimize1(initial_guess, Size, POV, Volatility, Cost):\n",
    "    a1, a2, a3, a4, b1 = initial_guess\n",
    "    return np.sum(np.square((a1 * (Size ** a2) * (Volatility ** a3) * (b1 * (POV ** a4) + (1 - b1))) - Cost))\n"
   ]
  },
  {
   "cell_type": "code",
   "execution_count": 7,
   "id": "202689ec",
   "metadata": {},
   "outputs": [
    {
     "data": {
      "text/plain": [
       "  message: CONVERGENCE: REL_REDUCTION_OF_F_<=_FACTR*EPSMCH\n",
       "  success: True\n",
       "   status: 0\n",
       "      fun: 4945541211.39081\n",
       "        x: [ 8.835e+02  3.541e-01  7.556e-01  8.261e-01  9.635e-01]\n",
       "      nit: 26\n",
       "      jac: [ 1.907e+02 -3.510e+04 -8.907e+04 -1.355e+05 -2.786e+05]\n",
       "     nfev: 282\n",
       "     njev: 47\n",
       " hess_inv: <5x5 LbfgsInvHessProduct with dtype=float64>"
      ]
     },
     "execution_count": 7,
     "metadata": {},
     "output_type": "execute_result"
    }
   ],
   "source": [
    "# Step 6. Initial Guess for Non-Linear Optimization\n",
    "\n",
    "# a parameters must be greater than zero\n",
    "# b parameter must be between zero and one\n",
    "\n",
    "a1 = 1000  # Market Impact Size Multiplier\n",
    "a2 = 0.5   # Order Size Shape Parameter\n",
    "a3 = 0.5   # Volatility Shape Parameter\n",
    "a4 = 0.5   # POV Shape Parameter\n",
    "b1 = 0.95  # Percent of Temporary Market Impact\n",
    "\n",
    "initial_guess = [a1, a2, a3, a4, b1]\n",
    "\n",
    "# Set Upper and Lower Bounds on Constraints\n",
    "LB = [0.0001, 0.0001, 0.0001, 0.0001, 0.00001] \n",
    "UB = [2000, 2.0, 2.0, 2.0, 1]\n",
    "\n",
    "MyBounds = []\n",
    "i = 0 \n",
    "for i in range(0,len(LB)):\n",
    "    MyBounds.append((LB[i], UB[i]))\n",
    "    i = i+1\n",
    "\n",
    "result = minimize(optimize1, initial_guess, bounds = MyBounds, args = (Size, POV, Volatility, Cost))\n",
    "result"
   ]
  },
  {
   "cell_type": "code",
   "execution_count": 8,
   "id": "c279561b",
   "metadata": {},
   "outputs": [],
   "source": [
    "# Step 7. Save MI Parameters to output file\n",
    "a1 = result.x.tolist()[0]\n",
    "a2 = result.x.tolist()[1]\n",
    "a3 = result.x.tolist()[2]\n",
    "a4 = result.x.tolist()[3]\n",
    "b1 = result.x.tolist()[4]\n",
    "\n",
    "new_a1 = pd.Series(result.x.tolist()[0])\n",
    "new_a2 = pd.Series(result.x.tolist()[1])\n",
    "new_a3 = pd.Series(result.x.tolist()[2])\n",
    "new_a4 = pd.Series(result.x.tolist()[3])\n",
    "new_b1 = pd.Series(result.x.tolist()[4])\n",
    "\n",
    "#Optimized_SSE = pd.Series(np.sum(np.square((a1 * (Size ** a2) * (Volatility ** a3) * (b1 * (POV ** a4) + (1 - b1))) - Cost)))\n",
    "#MiConstraints = pd.concat([new_a1 ,new_a2, new_a3, new_a4, new_b1, Optimized_SSE], axis =1)\n",
    "#MiConstraints.columns = [['a1', 'a2', 'a3', 'a4', 'b1', 'Optimized_SSE']]\n",
    "\n",
    "MiParameters = pd.concat([new_a1 ,new_a2, new_a3, new_a4, new_b1], axis =1)\n",
    "MiParameters.columns = [['a1', 'a2', 'a3', 'a4', 'b1']]\n",
    "MiParameters = MiParameters.transpose()\n",
    "MiParameters.columns = ['Value']\n",
    "MiParameters.index.rename('Parameter', inplace=True)\n",
    "\n",
    "#MiParameters.to_csv(OutputPath+'MiParameters.csv', index = True, header = True)\n",
    "MiParameters.to_csv(OutputPath+MIParameterFile, index = True, header = True)"
   ]
  },
  {
   "cell_type": "code",
   "execution_count": 9,
   "id": "e63242d7",
   "metadata": {},
   "outputs": [
    {
     "data": {
      "text/html": [
       "<div>\n",
       "<style scoped>\n",
       "    .dataframe tbody tr th:only-of-type {\n",
       "        vertical-align: middle;\n",
       "    }\n",
       "\n",
       "    .dataframe tbody tr th {\n",
       "        vertical-align: top;\n",
       "    }\n",
       "\n",
       "    .dataframe thead th {\n",
       "        text-align: right;\n",
       "    }\n",
       "</style>\n",
       "<table border=\"1\" class=\"dataframe\">\n",
       "  <thead>\n",
       "    <tr style=\"text-align: right;\">\n",
       "      <th></th>\n",
       "      <th>Value</th>\n",
       "    </tr>\n",
       "    <tr>\n",
       "      <th>Parameter</th>\n",
       "      <th></th>\n",
       "    </tr>\n",
       "  </thead>\n",
       "  <tbody>\n",
       "    <tr>\n",
       "      <th>a1</th>\n",
       "      <td>883.490789</td>\n",
       "    </tr>\n",
       "    <tr>\n",
       "      <th>a2</th>\n",
       "      <td>0.354069</td>\n",
       "    </tr>\n",
       "    <tr>\n",
       "      <th>a3</th>\n",
       "      <td>0.755646</td>\n",
       "    </tr>\n",
       "    <tr>\n",
       "      <th>a4</th>\n",
       "      <td>0.826101</td>\n",
       "    </tr>\n",
       "    <tr>\n",
       "      <th>b1</th>\n",
       "      <td>0.963511</td>\n",
       "    </tr>\n",
       "  </tbody>\n",
       "</table>\n",
       "</div>"
      ],
      "text/plain": [
       "                Value\n",
       "Parameter            \n",
       "a1         883.490789\n",
       "a2           0.354069\n",
       "a3           0.755646\n",
       "a4           0.826101\n",
       "b1           0.963511"
      ]
     },
     "execution_count": 9,
     "metadata": {},
     "output_type": "execute_result"
    }
   ],
   "source": [
    "# Step 8. Display MI Parameters to screen\n",
    "MiParameters"
   ]
  }
 ],
 "metadata": {
  "kernelspec": {
   "display_name": "Python 3 (ipykernel)",
   "language": "python",
   "name": "python3"
  },
  "language_info": {
   "codemirror_mode": {
    "name": "ipython",
    "version": 3
   },
   "file_extension": ".py",
   "mimetype": "text/x-python",
   "name": "python",
   "nbconvert_exporter": "python",
   "pygments_lexer": "ipython3",
   "version": "3.9.12"
  }
 },
 "nbformat": 4,
 "nbformat_minor": 5
}
